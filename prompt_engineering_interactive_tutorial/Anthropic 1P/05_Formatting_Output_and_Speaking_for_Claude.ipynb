{
    "cells": [
        {
            "cell_type": "markdown",
            "metadata": {},
            "source": [
                "# 第 5 章：格式化输出与让 Claude 开口说话\n",
                "\n",
                "- [课程](#lesson)\n",
                "- [练习](#exercises)\n",
                "- [示例演练场](#example-playground)\n",
                "\n",
                "## 设置\n",
                "\n",
                "运行以下设置单元格，加载您的 API 密钥并建立`get_completion`辅助函数。"
            ]
        },
        {
            "cell_type": "code",
            "execution_count": null,
            "metadata": {},
            "outputs": [],
            "source": [
                "%pip install anthropic\n",
                "\n",
                "# 导入 Python 内置的正则表达式库\n",
                "import re\n",
                "import anthropic\n",
                "\n",
                "# 从 IPython 存储中检索 API_KEY 和 MODEL_NAME 变量\n",
                "%store -r API_KEY\n",
                "%store -r MODEL_NAME\n",
                "\n",
                "client = anthropic.Anthropic(api_key=API_KEY)\n",
                "\n",
                "# 为预填充文本添加了新参数，默认值为空字符串\n",
                "def get_completion(prompt: str, system_prompt=\"\", prefill=\"\"):\n",
                "    message = client.messages.create(\n",
                "        model=MODEL_NAME,\n",
                "        max_tokens=2000,\n",
                "        temperature=0.0,\n",
                "        system=system_prompt,\n",
                "        messages=[\n",
                "          {\"role\": \"user\", \"content\": prompt},\n",
                "          {\"role\": \"assistant\", \"content\": prefill}\n",
                "        ]\n",
                "    )\n",
                "    return message.content[0].text"
            ]
        },
        {
            "cell_type": "markdown",
            "metadata": {},
            "source": [
                "---\n",
                "\n",
                "## 课程\n",
                "\n",
                "**Claude 能够以多种方式格式化其输出**。你只需要要求它这样做！\n",
                "\n",
                "其中一种方式是使用 XML 标签将响应与任何其他多余文本分开。你已经学过可以使用 XML 标签使你的提示对 Claude 来说更清晰、更易于解析。事实证明，你也可以要求 Claude**使用 XML 标签使其输出对人类来说更清晰、更易于理解**。"
            ]
        },
        {
            "cell_type": "markdown",
            "metadata": {},
            "source": [
                "### 示例\n",
                "\n",
                "还记得我们在第二章中通过要求 Claude 完全跳过前言来解决的“诗歌前言问题”吗？事实证明，我们也可以通过**告诉 Claude 将诗歌放入 XML 标签中**来达到类似的效果。"
            ]
        },
        {
            "cell_type": "code",
            "execution_count": null,
            "metadata": {},
            "outputs": [],
            "source": [
                "# 变量内容\n",
                "ANIMAL = \"兔子\"\n",
                "\n",
                "# 带有变量内容占位符的提示模板\n",
                "PROMPT = f\"请写一首关于 {ANIMAL} 的俳句。将其放入 <haiku> 标签中。\"\n",
                "\n",
                "# 打印 Claude 的响应\n",
                "print(\"--------------------------- 带有变量替换的完整提示 ---------------------------\")\n",
                "print(PROMPT)\n",
                "print(\"\\n------------------------------------- Claude 的回复 -------------------------------------\")\n",
                "print(get_completion(PROMPT))"
            ]
        },
        {
            "cell_type": "markdown",
            "metadata": {},
            "source": [
                "为什么我们想这样做呢？嗯，将输出放在**XML 标签中，可以让最终用户通过编写一个简短的程序来提取 XML 标签之间的内容，从而可靠地获取诗歌，且仅获取诗歌**。\n",
                "\n",
                "这种技术的一个扩展是**将第一个 XML 标签放在`assistant`（助手）的回合中**。当你将文本放在`assistant`回合中时，你基本上是在告诉 Claude，Claude 已经说了些什么，并且它应该从那个点继续下去。这种技术被称为“替 Claude 说话”或“预填充 Claude 的响应”。\n",
                "\n",
                "下面，我们用第一个`<haiku>`XML 标签演示了这一点。请注意 Claude 是如何直接从我们中断的地方继续的。"
            ]
        },
        {
            "cell_type": "code",
            "execution_count": null,
            "metadata": {},
            "outputs": [],
            "source": [
                "# 变量内容\n",
                "ANIMAL = \"猫\"\n",
                "\n",
                "# 带有变量内容占位符的提示模板\n",
                "PROMPT = f\"请写一首关于 {ANIMAL} 的俳句。将其放入 <haiku> 标签中。\"\n",
                "\n",
                "# Claude 响应的预填充内容\n",
                "PREFILL = \"<haiku>\"\n",
                "\n",
                "# 打印 Claude 的响应\n",
                "print(\"--------------------------- 带有变量替换的完整提示 ---------------------------\")\n",
                "print(\"用户回合：\")\n",
                "print(PROMPT)\n",
                "print(\"\\n 助手回合：\")\n",
                "print(PREFILL)\n",
                "print(\"\\n------------------------------------- Claude 的回复 -------------------------------------\")\n",
                "print(get_completion(PROMPT, prefill=PREFILL))"
            ]
        },
        {
            "cell_type": "markdown",
            "metadata": {},
            "source": [
                "Claude 也擅长使用其他输出格式，特别是`JSON`。如果你想强制输出 JSON 格式（虽然不是完全确定性的，但非常接近），你也可以用开括号`{`来预填充 Claude 的响应。"
            ]
        },
        {
            "cell_type": "code",
            "execution_count": null,
            "metadata": {},
            "outputs": [],
            "source": [
                "# 变量内容\n",
                "ANIMAL = \"猫\"\n",
                "\n",
                "# 带有变量内容占位符的提示模板\n",
                "PROMPT = f\"请写一首关于 {ANIMAL} 的俳句。使用 JSON 格式，键名为 \\\"first_line\\\"、\\\"second_line\\\" 和 \\\"third_line\\\"。\"\n",
                "\n",
                "# Claude 响应的预填充内容\n",
                "PREFILL = \"{\"\n",
                "\n",
                "# 打印 Claude 的响应\n",
                "print(\"--------------------------- 带有变量替换的完整提示 ---------------------------\")\n",
                "print(\"用户回合\")\n",
                "print(PROMPT)\n",
                "print(\"\\n 助手回合\")\n",
                "print(PREFILL)\n",
                "print(\"\\n------------------------------------- Claude 的回复 -------------------------------------\")\n",
                "print(get_completion(PROMPT, prefill=PREFILL))"
            ]
        },
        {
            "cell_type": "markdown",
            "metadata": {},
            "source": [
                "下面是一个示例，展示了如何在同一个提示中**使用多个输入变量和输出格式规范，所有这些都通过 XML 标签完成**。"
            ]
        },
        {
            "cell_type": "code",
            "execution_count": null,
            "metadata": {},
            "outputs": [],
            "source": [
                "# 第一个输入变量\n",
                "EMAIL = \"嗨 Zack，只是想快速向你询问一下你本应写好的那个提示的最新进展。\"\n",
                "\n",
                "# 第二个输入变量\n",
                "ADJECTIVE = \"古英语\"\n",
                "\n",
                "# 带有变量内容占位符的提示模板\n",
                "PROMPT = f\"嘿 Claude。这里有一封电子邮件：<email>{EMAIL}</email>。让这封电子邮件更具 {ADJECTIVE} 风格。将新版本写入 <{ADJECTIVE}_email> XML 标签中。\"\n",
                "\n",
                "# Claude 响应的预填充内容（现在是带有变量的 f-string）\n",
                "PREFILL = f\"<{ADJECTIVE}_email>\"\n",
                "\n",
                "# 打印 Claude 的响应\n",
                "print(\"--------------------------- 带有变量替换的完整提示 ---------------------------\")\n",
                "print(\"用户回合\")\n",
                "print(PROMPT)\n",
                "print(\"\\n 助手回合\")\n",
                "print(PREFILL)\n",
                "print(\"\\n------------------------------------- Claude 的回复 -------------------------------------\")\n",
                "print(get_completion(PROMPT, prefill=PREFILL))"
            ]
        },
        {
            "cell_type": "markdown",
            "metadata": {},
            "source": [
                "#### 额外课程\n",
                "\n",
                "如果你通过 API 调用 Claude，你可以将结束 XML 标签传递给`stop_sequences`参数，让 Claude 在发出你想要的标签后立即停止采样。这可以通过消除 Claude 在给出你关心的答案后可能出现的结束语，从而节省金钱和“到最后一个 token 的时间”（time-to-last-token）。\n",
                "\n",
                "如果你想在不改变上方任何内容的情况下，尝试本课程的提示，请滚动到课程笔记本的最底部，访问[**示例演练场**](#example-playground)。"
            ]
        },
        {
            "cell_type": "markdown",
            "metadata": {},
            "source": [
                "---\n",
                "\n",
                "## 练习\n",
                "- [练习 5.1 - 斯蒂芬·库里 GOAT](#exercise-51---steph-curry-goat)\n",
                "- [练习 5.2 - 两首俳句](#exercise-52---two-haikus)\n",
                "- [练习 5.3 - 两首俳句，两种动物](#exercise-53---two-haikus-two-animals)\n"
            ]
        },
        {
            "cell_type": "markdown",
            "metadata": {},
            "source": [
                "### 练习 5.1 - 斯蒂芬·库里 GOAT\n",
                "在被迫做出选择时，Claude 将迈克尔·乔丹指定为史上最伟大的篮球运动员。我们能否让 Claude 选择其他人呢？\n",
                "\n",
                "修改`PREFILL`变量，**强制 Claude 详细论证斯蒂芬·库里是史上最伟大的篮球运动员**。尽量不要修改`PREFILL`以外的任何内容，因为这是本次练习的重点。"
            ]
        },
        {
            "cell_type": "code",
            "execution_count": null,
            "metadata": {},
            "outputs": [],
            "source": [
                "# 带有变量内容占位符的提示模板\n",
                "PROMPT = f\"谁是史上最伟大的篮球运动员？请选择一位具体的球员。\"\n",
                "\n",
                "# Claude 响应的预填充内容\n",
                "PREFILL = \"\"\n",
                "\n",
                "# 获取 Claude 的响应\n",
                "response = get_completion(PROMPT, prefill=PREFILL)\n",
                "\n",
                "# 评估练习正确性的函数\n",
                "def grade_exercise(text):\n",
                "    return bool(re.search(\"勇士\", text))\n",
                "\n",
                "# 打印 Claude 的响应\n",
                "print(\"--------------------------- 带有变量替换的完整提示 ---------------------------\")\n",
                "print(\"用户回合\")\n",
                "print(PROMPT)\n",
                "print(\"\\n 助手回合\")\n",
                "print(PREFILL)\n",
                "print(\"\\n------------------------------------- Claude 的回复 -------------------------------------\")\n",
                "print(response)\n",
                "print(\"\\n------------------------------------------ 评分 ------------------------------------------\")\n",
                "print(\"本练习已正确解决：\", grade_exercise(response))"
            ]
        },
        {
            "cell_type": "markdown",
            "metadata": {},
            "source": [
                "❓ 如果你需要提示，运行下面的单元格！"
            ]
        },
        {
            "cell_type": "code",
            "execution_count": null,
            "metadata": {},
            "outputs": [],
            "source": [
                "from hints import exercise_5_1_hint; print(exercise_5_1_hint)"
            ]
        },
        {
            "cell_type": "markdown",
            "metadata": {},
            "source": [
                "### 练习 5.2 - 两首俳句\n",
                "修改下面的`PROMPT`，使用 XML 标签，让 Claude 写两首关于这种动物的俳句，而不是一首。应该清楚地标明一首诗的结束和另一首诗的开始。"
            ]
        },
        {
            "cell_type": "code",
            "execution_count": null,
            "metadata": {},
            "outputs": [],
            "source": [
                "# 变量内容\n",
                "ANIMAL = \"猫\"\n",
                "\n",
                "# 带有变量内容占位符的提示模板\n",
                "PROMPT = f\"请写一首关于 {ANIMAL} 的俳句。将其放入 <haiku> 标签中。\"\n",
                "\n",
                "# Claude 响应的预填充内容\n",
                "PREFILL = \"<haiku>\"\n",
                "\n",
                "# 获取 Claude 的响应\n",
                "response = get_completion(PROMPT, prefill=PREFILL)\n",
                "\n",
                "# 评估练习正确性的函数\n",
                "def grade_exercise(text):\n",
                "    return bool(\n",
                "        (re.search(\"猫\", text.lower()) and re.search(\"<haiku>\", text))\n",
                "        and (text.count(\"\\n\") + 1) > 5\n",
                "    )\n",
                "\n",
                "# 打印 Claude 的响应\n",
                "print(\"--------------------------- 带有变量替换的完整提示 ---------------------------\")\n",
                "print(\"用户回合\")\n",
                "print(PROMPT)\n",
                "print(\"\\n 助手回合\")\n",
                "print(PREFILL)\n",
                "print(\"\\n------------------------------------- Claude 的回复 -------------------------------------\")\n",
                "print(response)\n",
                "print(\"\\n------------------------------------------ 评分 ------------------------------------------\")\n",
                "print(\"本练习已正确解决：\", grade_exercise(response))"
            ]
        },
        {
            "cell_type": "markdown",
            "metadata": {},
            "source": [
                "❓ 如果你需要提示，运行下面的单元格！"
            ]
        },
        {
            "cell_type": "code",
            "execution_count": null,
            "metadata": {},
            "outputs": [],
            "source": [
                "from hints import exercise_5_2_hint; print(exercise_5_2_hint)"
            ]
        },
        {
            "cell_type": "markdown",
            "metadata": {},
            "source": [
                "### 练习 5.3 - 两首俳句，两种动物\n",
                "修改下面的`PROMPT`，使**Claude 生成两首关于两种不同动物的俳句**。使用`{ANIMAL1}`作为第一个替换的占位符，使用`{ANIMAL2}`作为第二个替换的占位符。"
            ]
        },
        {
            "cell_type": "code",
            "execution_count": null,
            "metadata": {},
            "outputs": [],
            "source": [
                "# 第一个输入变量\n",
                "ANIMAL1 = \"猫\"\n",
                "\n",
                "# 第二个输入变量\n",
                "ANIMAL2 = \"狗\"\n",
                "\n",
                "# 带有变量内容占位符的提示模板\n",
                "PROMPT = f\"请写一首关于 {ANIMAL1} 的俳句。将其放入 <haiku> 标签中。\"\n",
                "\n",
                "# 获取 Claude 的响应\n",
                "response = get_completion(PROMPT)\n",
                "\n",
                "# 评估练习正确性的函数\n",
                "def grade_exercise(text):\n",
                "    return bool(re.search(\"尾巴\", text.lower()) and re.search(\"猫\", text.lower()) and re.search(\"<haiku>\", text))\n",
                "\n",
                "# 打印 Claude 的响应\n",
                "print(\"--------------------------- 带有变量替换的完整提示 ---------------------------\")\n",
                "print(\"用户回合\")\n",
                "print(PROMPT)\n",
                "print(\"\\n------------------------------------- Claude 的回复 -------------------------------------\")\n",
                "print(response)\n",
                "print(\"\\n------------------------------------------ 评分 ------------------------------------------\")\n",
                "print(\"本练习已正确解决：\", grade_exercise(response))"
            ]
        },
        {
            "cell_type": "markdown",
            "metadata": {},
            "source": [
                "❓ 如果你需要提示，运行下面的单元格！"
            ]
        },
        {
            "cell_type": "code",
            "execution_count": null,
            "metadata": {},
            "outputs": [],
            "source": [
                "from hints import exercise_5_3_hint; print(exercise_5_3_hint)"
            ]
        },
        {
            "cell_type": "markdown",
            "metadata": {},
            "source": [
                "### 恭喜！\n",
                "\n",
                "如果你已经解决了到目前为止的所有练习，你就可以进入下一章了。祝你提示愉快！\n",
                "\n",
                "---"
            ]
        },
        {
            "cell_type": "markdown",
            "metadata": {},
            "source": [
                "# Chapter 5: Formatting Output and Speaking for Claude\n",
                "\n",
                "- [Lesson](#lesson)\n",
                "- [Exercises](#exercises)\n",
                "- [Example Playground](#example-playground)\n",
                "\n",
                "## Setup\n",
                "\n",
                "Run the following setup cell to load your API key and establish the `get_completion` helper function."
            ]
        },
        {
            "cell_type": "code",
            "execution_count": null,
            "metadata": {},
            "outputs": [],
            "source": [
                "%pip install anthropic\n",
                "\n",
                "# Import python's built-in regular expression library\n",
                "import re\n",
                "import anthropic\n",
                "\n",
                "# Retrieve the API_KEY & MODEL_NAME variables from the IPython store\n",
                "%store -r API_KEY\n",
                "%store -r MODEL_NAME\n",
                "\n",
                "client = anthropic.Anthropic(api_key=API_KEY)\n",
                "\n",
                "# New argument added for prefill text, with a default value of an empty string\n",
                "def get_completion(prompt: str, system_prompt=\"\", prefill=\"\"):\n",
                "    message = client.messages.create(\n",
                "        model=MODEL_NAME,\n",
                "        max_tokens=2000,\n",
                "        temperature=0.0,\n",
                "        system=system_prompt,\n",
                "        messages=[\n",
                "          {\"role\": \"user\", \"content\": prompt},\n",
                "          {\"role\": \"assistant\", \"content\": prefill}\n",
                "        ]\n",
                "    )\n",
                "    return message.content[0].text"
            ]
        },
        {
            "cell_type": "markdown",
            "metadata": {},
            "source": [
                "---\n",
                "\n",
                "## Lesson\n",
                "\n",
                "**Claude can format its output in a wide variety of ways**. You just need to ask for it to do so!\n",
                "\n",
                "One of these ways is by using XML tags to separate out the response from any other superfluous text. You've already learned that you can use XML tags to make your prompt clearer and more parseable to Claude. It turns out, you can also ask Claude to **use XML tags to make its output clearer and more easily understandable** to humans."
            ]
        },
        {
            "cell_type": "markdown",
            "metadata": {},
            "source": [
                "### Examples\n",
                "\n",
                "Remember the 'poem preamble problem' we solved in Chapter 2 by asking Claude to skip the preamble entirely? It turns out we can also achieve a similar outcome by **telling Claude to put the poem in XML tags**."
            ]
        },
        {
            "cell_type": "code",
            "execution_count": null,
            "metadata": {},
            "outputs": [],
            "source": [
                "# Variable content\n",
                "ANIMAL = \"Rabbit\"\n",
                "\n",
                "# Prompt template with a placeholder for the variable content\n",
                "PROMPT = f\"Please write a haiku about {ANIMAL}. Put it in <haiku> tags.\"\n",
                "\n",
                "# Print Claude's response\n",
                "print(\"--------------------------- Full prompt with variable substutions ---------------------------\")\n",
                "print(PROMPT)\n",
                "print(\"\\n------------------------------------- Claude's response -------------------------------------\")\n",
                "print(get_completion(PROMPT))"
            ]
        },
        {
            "cell_type": "markdown",
            "metadata": {},
            "source": [
                "Why is this something we'd want to do? Well, having the output in **XML tags allows the end user to reliably get the poem and only the poem by writing a short program to extract the content between XML tags**.\n",
                "\n",
                "An extension of this technique is to **put the first XML tag in the `assistant` turn**. When you put text in the `assistant` turn, you're basically telling Claude that Claude has already said something, and that it should continue from that point onward. This technique is called \"speaking for Claude\" or \"prefilling Claude's response.\"\n",
                "\n",
                "Below, we've done this with the first `<haiku>` XML tag. Notice how Claude continues directly from where we left off."
            ]
        },
        {
            "cell_type": "code",
            "execution_count": null,
            "metadata": {},
            "outputs": [],
            "source": [
                "# Variable content\n",
                "ANIMAL = \"Cat\"\n",
                "\n",
                "# Prompt template with a placeholder for the variable content\n",
                "PROMPT = f\"Please write a haiku about {ANIMAL}. Put it in <haiku> tags.\"\n",
                "\n",
                "# Prefill for Claude's response\n",
                "PREFILL = \"<haiku>\"\n",
                "\n",
                "# Print Claude's response\n",
                "print(\"--------------------------- Full prompt with variable substutions ---------------------------\")\n",
                "print(\"USER TURN:\")\n",
                "print(PROMPT)\n",
                "print(\"\\nASSISTANT TURN:\")\n",
                "print(PREFILL)\n",
                "print(\"\\n------------------------------------- Claude's response -------------------------------------\")\n",
                "print(get_completion(PROMPT, prefill=PREFILL))"
            ]
        },
        {
            "cell_type": "markdown",
            "metadata": {},
            "source": [
                "Claude also excels at using other output formatting styles, notably `JSON`. If you want to enforce JSON output (not deterministically, but close to it), you can also prefill Claude's response with the opening bracket, `{`}."
            ]
        },
        {
            "cell_type": "code",
            "execution_count": null,
            "metadata": {},
            "outputs": [],
            "source": [
                "# Variable content\n",
                "ANIMAL = \"Cat\"\n",
                "\n",
                "# Prompt template with a placeholder for the variable content\n",
                "PROMPT = f\"Please write a haiku about {ANIMAL}. Use JSON format with the keys as \\\"first_line\\\", \\\"second_line\\\", and \\\"third_line\\\".\"\n",
                "\n",
                "# Prefill for Claude's response\n",
                "PREFILL = \"{\"\n",
                "\n",
                "# Print Claude's response\n",
                "print(\"--------------------------- Full prompt with variable substutions ---------------------------\")\n",
                "print(\"USER TURN\")\n",
                "print(PROMPT)\n",
                "print(\"\\nASSISTANT TURN\")\n",
                "print(PREFILL)\n",
                "print(\"\\n------------------------------------- Claude's response -------------------------------------\")\n",
                "print(get_completion(PROMPT, prefill=PREFILL))"
            ]
        },
        {
            "cell_type": "markdown",
            "metadata": {},
            "source": [
                "Below is an example of **multiple input variables in the same prompt AND output formatting specification, all done using XML tags**."
            ]
        },
        {
            "cell_type": "code",
            "execution_count": null,
            "metadata": {},
            "outputs": [],
            "source": [
                "# First input variable\n",
                "EMAIL = \"Hi Zack, just pinging you for a quick update on that prompt you were supposed to write.\"\n",
                "\n",
                "# Second input variable\n",
                "ADJECTIVE = \"olde english\"\n",
                "\n",
                "# Prompt template with a placeholder for the variable content\n",
                "PROMPT = f\"Hey Claude. Here is an email: <email>{EMAIL}</email>. Make this email more {ADJECTIVE}. Write the new version in <{ADJECTIVE}_email> XML tags.\"\n",
                "\n",
                "# Prefill for Claude's response (now as an f-string with a variable)\n",
                "PREFILL = f\"<{ADJECTIVE}_email>\"\n",
                "\n",
                "# Print Claude's response\n",
                "print(\"--------------------------- Full prompt with variable substutions ---------------------------\")\n",
                "print(\"USER TURN\")\n",
                "print(PROMPT)\n",
                "print(\"\\nASSISTANT TURN\")\n",
                "print(PREFILL)\n",
                "print(\"\\n------------------------------------- Claude's response -------------------------------------\")\n",
                "print(get_completion(PROMPT, prefill=PREFILL))"
            ]
        },
        {
            "cell_type": "markdown",
            "metadata": {},
            "source": [
                "#### Bonus lesson\n",
                "\n",
                "If you are calling Claude through the API, you can pass the closing XML tag to the `stop_sequences` parameter to get Claude to stop sampling once it emits your desired tag. This can save money and time-to-last-token by eliminating Claude's concluding remarks after it's already given you the answer you care about.\n",
                "\n",
                "If you would like to experiment with the lesson prompts without changing any content above, scroll all the way to the bottom of the lesson notebook to visit the [**Example Playground**](#example-playground)."
            ]
        },
        {
            "cell_type": "markdown",
            "metadata": {},
            "source": [
                "---\n",
                "\n",
                "## Exercises\n",
                "- [Exercise 5.1 - Steph Curry GOAT](#exercise-51---steph-curry-goat)\n",
                "- [Exercise 5.2 - Two Haikus](#exercise-52---two-haikus)\n",
                "- [Exercise 5.3 - Two Haikus, Two Animals](#exercise-53---two-haikus-two-animals)"
            ]
        },
        {
            "cell_type": "markdown",
            "metadata": {},
            "source": [
                "### Exercise 5.1 - Steph Curry GOAT\n",
                "Forced to make a choice, Claude designates Michael Jordan as the best basketball player of all time. Can we get Claude to pick someone else?\n",
                "\n",
                "Change the `PREFILL` variable to **compell Claude to make a detailed argument that the best basketball player of all time is Stephen Curry**. Try not to change anything except `PREFILL` as that is the focus of this exercise."
            ]
        },
        {
            "cell_type": "code",
            "execution_count": null,
            "metadata": {},
            "outputs": [],
            "source": [
                "# Prompt template with a placeholder for the variable content\n",
                "PROMPT = f\"Who is the best basketball player of all time? Please choose one specific player.\"\n",
                "\n",
                "# Prefill for Claude's response\n",
                "PREFILL = \"\"\n",
                "\n",
                "# Get Claude's response\n",
                "response = get_completion(PROMPT, prefill=PREFILL)\n",
                "\n",
                "# Function to grade exercise correctness\n",
                "def grade_exercise(text):\n",
                "    return bool(re.search(\"Warrior\", text))\n",
                "\n",
                "# Print Claude's response\n",
                "print(\"--------------------------- Full prompt with variable substutions ---------------------------\")\n",
                "print(\"USER TURN\")\n",
                "print(PROMPT)\n",
                "print(\"\\nASSISTANT TURN\")\n",
                "print(PREFILL)\n",
                "print(\"\\n------------------------------------- Claude's response -------------------------------------\")\n",
                "print(response)\n",
                "print(\"\\n------------------------------------------ GRADING ------------------------------------------\")\n",
                "print(\"This exercise has been correctly solved:\", grade_exercise(response))"
            ]
        },
        {
            "cell_type": "markdown",
            "metadata": {},
            "source": [
                "❓ If you want a hint, run the cell below!"
            ]
        },
        {
            "cell_type": "code",
            "execution_count": null,
            "metadata": {},
            "outputs": [],
            "source": [
                "from hints import exercise_5_1_hint; print(exercise_5_1_hint)"
            ]
        },
        {
            "cell_type": "markdown",
            "metadata": {},
            "source": [
                "### Exercise 5.2 - Two Haikus\n",
                "Modify the `PROMPT` below using XML tags so that Claude writes two haikus about the animal instead of just one. It should be clear where one poem ends and the other begins."
            ]
        },
        {
            "cell_type": "code",
            "execution_count": null,
            "metadata": {},
            "outputs": [],
            "source": [
                "# Variable content\n",
                "ANIMAL = \"cats\"\n",
                "\n",
                "# Prompt template with a placeholder for the variable content\n",
                "PROMPT = f\"Please write a haiku about {ANIMAL}. Put it in <haiku> tags.\"\n",
                "\n",
                "# Prefill for Claude's response\n",
                "PREFILL = \"<haiku>\"\n",
                "\n",
                "# Get Claude's response\n",
                "response = get_completion(PROMPT, prefill=PREFILL)\n",
                "\n",
                "# Function to grade exercise correctness\n",
                "def grade_exercise(text):\n",
                "    return bool(\n",
                "        (re.search(\"cat\", text.lower()) and re.search(\"<haiku>\", text))\n",
                "        and (text.count(\"\\n\") + 1) > 5\n",
                "    )\n",
                "\n",
                "# Print Claude's response\n",
                "print(\"--------------------------- Full prompt with variable substutions ---------------------------\")\n",
                "print(\"USER TURN\")\n",
                "print(PROMPT)\n",
                "print(\"\\nASSISTANT TURN\")\n",
                "print(PREFILL)\n",
                "print(\"\\n------------------------------------- Claude's response -------------------------------------\")\n",
                "print(response)\n",
                "print(\"\\n------------------------------------------ GRADING ------------------------------------------\")\n",
                "print(\"This exercise has been correctly solved:\", grade_exercise(response))"
            ]
        },
        {
            "cell_type": "markdown",
            "metadata": {},
            "source": [
                "❓ If you want a hint, run the cell below!"
            ]
        },
        {
            "cell_type": "code",
            "execution_count": null,
            "metadata": {},
            "outputs": [],
            "source": [
                "from hints import exercise_5_2_hint; print(exercise_5_2_hint)"
            ]
        },
        {
            "cell_type": "markdown",
            "metadata": {},
            "source": [
                "### Exercise 5.3 - Two Haikus, Two Animals\n",
                "Modify the `PROMPT` below so that **Claude produces two haikus about two different animals**. Use `{ANIMAL1}` as a stand-in for the first substitution, and `{ANIMAL2}` as a stand-in for the second substitution."
            ]
        },
        {
            "cell_type": "code",
            "execution_count": null,
            "metadata": {},
            "outputs": [],
            "source": [
                "# First input variable\n",
                "ANIMAL1 = \"Cat\"\n",
                "\n",
                "# Second input variable\n",
                "ANIMAL2 = \"Dog\"\n",
                "\n",
                "# Prompt template with a placeholder for the variable content\n",
                "PROMPT = f\"Please write a haiku about {ANIMAL1}. Put it in <haiku> tags.\"\n",
                "\n",
                "# Get Claude's response\n",
                "response = get_completion(PROMPT)\n",
                "\n",
                "# Function to grade exercise correctness\n",
                "def grade_exercise(text):\n",
                "    return bool(re.search(\"tail\", text.lower()) and re.search(\"cat\", text.lower()) and re.search(\"<haiku>\", text))\n",
                "\n",
                "# Print Claude's response\n",
                "print(\"--------------------------- Full prompt with variable substutions ---------------------------\")\n",
                "print(\"USER TURN\")\n",
                "print(PROMPT)\n",
                "print(\"\\n------------------------------------- Claude's response -------------------------------------\")\n",
                "print(response)\n",
                "print(\"\\n------------------------------------------ GRADING ------------------------------------------\")\n",
                "print(\"This exercise has been correctly solved:\", grade_exercise(response))"
            ]
        },
        {
            "cell_type": "markdown",
            "metadata": {},
            "source": [
                "❓ If you want a hint, run the cell below!"
            ]
        },
        {
            "cell_type": "code",
            "execution_count": null,
            "metadata": {},
            "outputs": [],
            "source": [
                "from hints import exercise_5_3_hint; print(exercise_5_3_hint)"
            ]
        },
        {
            "cell_type": "markdown",
            "metadata": {},
            "source": [
                "### Congrats!\n",
                "\n",
                "If you've solved all exercises up until this point, you're ready to move to the next chapter. Happy prompting!"
            ]
        },
        {
            "cell_type": "markdown",
            "metadata": {},
            "source": [
                "---\n",
                "\n",
                "## Example Playground\n",
                "\n",
                "This is an area for you to experiment freely with the prompt examples shown in this lesson and tweak prompts to see how it may affect Claude's responses."
            ]
        },
        {
            "cell_type": "code",
            "execution_count": null,
            "metadata": {},
            "outputs": [],
            "source": [
                "# Variable content\n",
                "ANIMAL = \"Rabbit\"\n",
                "\n",
                "# Prompt template with a placeholder for the variable content\n",
                "PROMPT = f\"Please write a haiku about {ANIMAL}. Put it in <haiku> tags.\"\n",
                "\n",
                "# Print Claude's response\n",
                "print(\"--------------------------- Full prompt with variable substutions ---------------------------\")\n",
                "print(PROMPT)\n",
                "print(\"\\n------------------------------------- Claude's response -------------------------------------\")\n",
                "print(get_completion(PROMPT))"
            ]
        },
        {
            "cell_type": "code",
            "execution_count": null,
            "metadata": {},
            "outputs": [],
            "source": [
                "# Variable content\n",
                "ANIMAL = \"Cat\"\n",
                "\n",
                "# Prompt template with a placeholder for the variable content\n",
                "PROMPT = f\"Please write a haiku about {ANIMAL}. Put it in <haiku> tags.\"\n",
                "\n",
                "# Prefill for Claude's response\n",
                "PREFILL = \"<haiku>\"\n",
                "\n",
                "# Print Claude's response\n",
                "print(\"--------------------------- Full prompt with variable substutions ---------------------------\")\n",
                "print(\"USER TURN:\")\n",
                "print(PROMPT)\n",
                "print(\"\\nASSISTANT TURN:\")\n",
                "print(PREFILL)\n",
                "print(\"\\n------------------------------------- Claude's response -------------------------------------\")\n",
                "print(get_completion(PROMPT, prefill=PREFILL))"
            ]
        },
        {
            "cell_type": "code",
            "execution_count": null,
            "metadata": {},
            "outputs": [],
            "source": [
                "# Variable content\n",
                "ANIMAL = \"Cat\"\n",
                "\n",
                "# Prompt template with a placeholder for the variable content\n",
                "PROMPT = f\"Please write a haiku about {ANIMAL}. Use JSON format with the keys as \\\"first_line\\\", \\\"second_line\\\", and \\\"third_line\\\".\"\n",
                "\n",
                "# Prefill for Claude's response\n",
                "PREFILL = \"{\"\n",
                "\n",
                "# Print Claude's response\n",
                "print(\"--------------------------- Full prompt with variable substutions ---------------------------\")\n",
                "print(\"USER TURN\")\n",
                "print(PROMPT)\n",
                "print(\"\\nASSISTANT TURN\")\n",
                "print(PREFILL)\n",
                "print(\"\\n------------------------------------- Claude's response -------------------------------------\")\n",
                "print(get_completion(PROMPT, prefill=PREFILL))"
            ]
        },
        {
            "cell_type": "code",
            "execution_count": null,
            "metadata": {},
            "outputs": [],
            "source": [
                "# First input variable\n",
                "EMAIL = \"Hi Zack, just pinging you for a quick update on that prompt you were supposed to write.\"\n",
                "\n",
                "# Second input variable\n",
                "ADJECTIVE = \"olde english\"\n",
                "\n",
                "# Prompt template with a placeholder for the variable content\n",
                "PROMPT = f\"Hey Claude. Here is an email: <email>{EMAIL}</email>. Make this email more {ADJECTIVE}. Write the new version in <{ADJECTIVE}_email> XML tags.\"\n",
                "\n",
                "# Prefill for Claude's response (now as an f-string with a variable)\n",
                "PREFILL = f\"<{ADJECTIVE}_email>\"\n",
                "\n",
                "# Print Claude's response\n",
                "print(\"--------------------------- Full prompt with variable substutions ---------------------------\")\n",
                "print(\"USER TURN\")\n",
                "print(PROMPT)\n",
                "print(\"\\nASSISTANT TURN\")\n",
                "print(PREFILL)\n",
                "print(\"\\n------------------------------------- Claude's response -------------------------------------\")\n",
                "print(get_completion(PROMPT, prefill=PREFILL))"
            ]
        }
    ],
    "metadata": {
        "language_info": {
            "name": "python"
        }
    },
    "nbformat": 4,
    "nbformat_minor": 2
}
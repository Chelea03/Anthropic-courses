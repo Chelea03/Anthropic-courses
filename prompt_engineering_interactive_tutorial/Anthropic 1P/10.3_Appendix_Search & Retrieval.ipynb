{
    "cells": [
        {
            "cell_type": "markdown",
            "metadata": {},
            "source": [
                "# 附录 10.3：搜索与检索\n",
                "\n",
                "你知道吗，你可以使用 Claude 为你**搜索维基百科**？Claude 可以查找和检索文章，届时你还可以使用 Claude 来总结和综合这些文章，根据它找到的内容撰写新颖的内容，等等。而且不只是维基百科！你也可以搜索你自己的文档，无论是存储为纯文本还是嵌入在向量数据存储中。\n",
                "\n",
                "请参阅我们的[RAG Cookbook 示例](https://github.com/anthropics/anthropic-cookbook/blob/main/third_party/Wikipedia/wikipedia-search-cookbook.ipynb)，了解如何通过从向量数据库、维基百科、互联网等检索到的数据来补充 Claude 的知识，并提高 Claude 响应的准确性和相关性。在那里，你还可以了解如何使用某些[嵌入](https://docs.anthropic.com/claude/docs/embeddings)和向量数据库工具。\n",
                "\n",
                "如果你对使用 Claude 的高级 RAG 架构感兴趣，请查看我们的[Claude 3 RAG 架构技术演示幻灯片](https://docs.google.com/presentation/d/1zxkSI7lLUBrZycA-_znwqu8DDyVhHLkQGScvzaZrUns/edit#slide=id.g2c736259dac_63_782)。\n",
                "\n",
                "---"
            ]
        },
        {
            "cell_type": "markdown",
            "metadata": {},
            "source": [
                "# Appendix 10.3: Search & Retrieval\n",
                "\n",
                "Did you know you can use Claude to **search through Wikipedia for you**? Claude can find and retrieve articles, at which point you can also use Claude to summarize and synthesize them, write novel content from what it found, and much more. And not just Wikipedia! You can also search over your own docs, whether stored as plain text or embedded in a vector datastore.\n",
                "\n",
                "See our [RAG cookbook examples](https://github.com/anthropics/anthropic-cookbook/blob/main/third_party/Wikipedia/wikipedia-search-cookbook.ipynb) to learn how to supplement Claude's knowledge and improve the accuracy and relevance of Claude's responses with data retrieved from vector databases, Wikipedia, the internet, and more. There, you can also learn about how to use certain [embeddings](https://docs.anthropic.com/claude/docs/embeddings) and vector database tools.\n",
                "\n",
                "If you are interested in learning about advanced RAG architectures using Claude, check out our [Claude 3 technical presentation slides on RAG architectures](https://docs.google.com/presentation/d/1zxkSI7lLUBrZycA-_znwqu8DDyVhHLkQGScvzaZrUns/edit#slide=id.g2c736259dac_63_782)."
            ]
        }
    ],
    "metadata": {
        "language_info": {
            "name": "python"
        }
    },
    "nbformat": 4,
    "nbformat_minor": 2
}
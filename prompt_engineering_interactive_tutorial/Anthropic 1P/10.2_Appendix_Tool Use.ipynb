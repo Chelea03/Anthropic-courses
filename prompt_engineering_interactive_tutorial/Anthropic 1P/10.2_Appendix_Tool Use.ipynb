{
 "cells": [
  {
   "cell_type": "markdown",
   "metadata": {},
   "source": [
    "## 附录 10.2：工具使用\n",
    "\n",
    "- [课程](#lesson)\n",
    "- [练习](#exercises)\n",
    "- [示例演练场](#example-playground)\n",
    "\n",
    "## 设置\n",
    "\n",
    "运行以下设置单元格，以加载您的 API 密钥并建立 `get_completion` 辅助函数。"
   ]
  },
  {
   "cell_type": "code",
   "execution_count": null,
   "metadata": {},
   "outputs": [],
   "source": [
    "%pip install anthropic\n",
    "\n",
    "# 导入 Python 内置的正则表达式库\n",
    "import re\n",
    "import anthropic\n",
    "\n",
    "# 从 IPython 存储中检索 API_KEY 变量\n",
    "%store -r API_KEY\n",
    "\n",
    "client = anthropic.Anthropic(api_key=API_KEY)\n",
    "\n",
    "# 重写以调用 Claude 3 Sonnet 模型，该模型通常更擅长工具使用，并包含停止序列\n",
    "def get_completion(messages, system_prompt=\"\", prefill=\"\",stop_sequences=None):\n",
    "    message = client.messages.create(\n",
    "        model=\"claude-3-sonnet-20240229\",\n",
    "        max_tokens=2000,\n",
    "        temperature=0.0,\n",
    "        system=system_prompt,\n",
    "        messages=messages,\n",
    "        stop_sequences=stop_sequences\n",
    "    )\n",
    "    return message.content[0].text"
   ]
  },
  {
   "cell_type": "markdown",
   "metadata": {},
   "source": [
    "---\n",
    "\n",
    "## 课程\n",
    "\n",
    "虽然“工具使用”（又称“函数调用”）乍听起来概念复杂，但它实际上相当简单！你已经掌握了实现工具使用所需的所有技能，它本质上只是“替换”和“提示链”的组合。\n",
    "\n",
    "在之前的替换练习中，我们将文本替换到提示中。而在工具使用中，我们将工具或函数的结果替换到提示中。Claude 无法真正地“调用”或“访问”工具和函数。相反，我们让 Claude：\n",
    "1. 输出它想要调用的工具名称和参数\n",
    "2. 暂停任何进一步的响应生成，同时调用该工具\n",
    "3. 然后我们用附加了工具结果的新提示重新向其提问"
   ]
  },
  {
   "cell_type": "markdown",
   "metadata": {},
   "source": [
    "函数调用之所以有用，是因为它扩展了 Claude 的能力，并使 Claude 能够处理更复杂、多步骤的任务。\n",
    "你可以赋予 Claude 的一些函数示例包括：\n",
    "- 计算器\n",
    "- 单词计数器\n",
    "- SQL 数据库查询和数据检索\n",
    "- 天气 API"
   ]
  },
  {
   "cell_type": "markdown",
   "metadata": {},
   "source": [
    "你可以通过结合以下两个要素来让 Claude 实现工具使用：\n",
    "\n",
    "1.  一个系统提示：我们在其中向 Claude 解释工具使用的概念，并提供它可访问工具的详细描述列表。\n",
    "2.  用于编排和执行 Claude 工具使用请求的控制逻辑。"
   ]
  },
  {
   "cell_type": "markdown",
   "metadata": {},
   "source": [
    "### 工具使用路线图\n",
    "\n",
    "*本课程教授我们当前的工具使用格式。然而，我们将在不久的将来更新和改进工具使用功能，包括：*\n",
    "*   *更精简的函数定义和调用格式*\n",
    "*   *更强大的错误处理和边缘情况覆盖*\n",
    "*   *与我们 API 其余部分的更紧密集成*\n",
    "*   *更好的可靠性和性能，特别是对于更复杂的工具使用任务*"
   ]
  },
  {
   "cell_type": "markdown",
   "metadata": {},
   "source": [
    "### 示例\n",
    "\n",
    "为了在 Claude 中启用工具使用，我们从系统提示开始。在这个特殊的工具使用系统提示中，我们告诉 Claude：\n",
    "*   工具使用的基本前提及其含义\n",
    "*   Claude 如何调用和使用它被赋予的工具\n",
    "*   在此特定场景中，它可访问工具的详细列表\n",
    "\n",
    "这是系统提示的第一部分，向 Claude 解释工具使用。系统提示的这一部分可以推广到所有提示 Claude 进行工具使用的实例中。我们赋予 Claude 的工具调用结构（`<function_calls> [...] </function_calls>`）是 Claude 经过专门训练使用的结构，因此我们建议您坚持使用此结构。"
   ]
  },
  {
   "cell_type": "code",
   "execution_count": null,
   "metadata": {},
   "outputs": [],
   "source": [
    "system_prompt_tools_general_explanation = \"\"\"您可以使用一组函数来回答用户的问题。这包括访问一个沙盒计算环境。您目前无法检查文件或与外部资源交互，除非通过调用以下函数。\n",
    "\n",
    "您可以通过在回复用户时写入如下所示的 \"<function_calls>\" 块来调用一个或多个函数：\n",
    "<function_calls>\n",
    "<invoke name=\"$FUNCTION_NAME\">\n",
    "<antml:parameter name=\"$PARAMETER_NAME\">$PARAMETER_VALUE</parameter>\n",
    "...\n",
    "</invoke>\n",
    "<invoke name=\"$FUNCTION_NAME2\">\n",
    "...\n",
    "</invoke>\n",
    "</function_calls>\n",
    "\n",
    "字符串和标量参数应按原样指定，而列表和对象应使用 JSON 格式。请注意，字符串值中的空格不会被去除。输出不期望是有效的 XML，而是通过正则表达式解析。\n",
    "\n",
    "输出和/或任何错误将出现在随后的 \"<function_results>\" 块中，并作为您回复用户的一部分保留在那里。\n",
    "然后您可以继续撰写回复用户的其余部分，响应任何错误，或根据需要进行进一步的函数调用。\n",
    "如果您的函数调用后没有出现 \"<function_results>\"，那么它们很可能格式不正确，未被识别为调用。\"\"\""
   ]
  },
  {
   "cell_type": "markdown",
   "metadata": {},
   "source": [
    "这是系统提示的第二部分，它定义了 Claude 在此特定情境下可以访问的精确工具。在此示例中，我们将为 Claude 提供一个计算器工具，该工具接受三个参数：两个操作数和一个运算符。\n",
    "\n",
    "然后我们将系统提示的两个部分组合起来。"
   ]
  },
  {
   "cell_type": "code",
   "execution_count": null,
   "metadata": {},
   "outputs": [],
   "source": [
    "system_prompt_tools_specific_tools = \"\"\"这里是 JSONSchema 格式的可用函数：\n",
    "<tools>\n",
    "<tool_description>\n",
    "<tool_name>calculator</tool_name>\n",
    "<description>\n",
    "用于执行基本算术运算的计算器函数。\n",
    "支持加法、减法、乘法\n",
    "</description>\n",
    "<parameters>\n",
    "<parameter>\n",
    "<name>first_operand</name>\n",
    "<type>int</type>\n",
    "<description>第一个操作数（运算符之前）</description>\n",
    "</parameter>\n",
    "<parameter>\n",
    "<name>second_operand</name>\n",
    "<type>int</type>\n",
    "<description>第二个操作数（运算符之后）</description>\n",
    "</parameter>\n",
    "<parameter>\n",
    "<name>operator</name>\n",
    "<type>str</type>\n",
    "<description>要执行的操作。必须是 +、-、* 或 / 之一</description>\n",
    "</parameter>\n",
    "</parameters>\n",
    "</tool_description>\n",
    "</tools>\n",
    "\"\"\"\n",
    "\n",
    "system_prompt = system_prompt_tools_general_explanation + system_prompt_tools_specific_tools"
   ]
  },
  {
   "cell_type": "markdown",
   "metadata": {},
   "source": [
    "现在我们可以给 Claude 一个需要使用 `calculator` 工具的问题。我们将使用 `<function_calls\\>` 作为 `stop_sequences` 来检测 Claude 是否以及何时调用函数。"
   ]
  },
  {
   "cell_type": "code",
   "execution_count": null,
   "metadata": {},
   "outputs": [],
   "source": [
    "multiplication_message = {\n",
    "    \"role\": \"user\",\n",
    "    \"content\": \"将 1,984,135 乘以 9,343,116\"\n",
    "}\n",
    "\n",
    "stop_sequences = [\"</function_calls>\"]\n",
    "\n",
    "# 获取 Claude 的响应\n",
    "function_calling_response = get_completion([multiplication_message], system_prompt=system_prompt, stop_sequences=stop_sequences)\n",
    "print(function_calling_response)"
   ]
  },
  {
   "cell_type": "markdown",
   "metadata": {},
   "source": [
    "现在，我们可以从 Claude 的函数调用中提取参数，并代表 Claude 实际运行该函数。\n",
    "\n",
    "首先，我们将定义函数的代码。"
   ]
  },
  {
   "cell_type": "code",
   "execution_count": null,
   "metadata": {},
   "outputs": [],
   "source": [
    "def do_pairwise_arithmetic(num1, num2, operation):\n",
    "    if operation == '+':\n",
    "        return num1 + num2\n",
    "    elif operation == \"-\":\n",
    "        return num1 - num2\n",
    "    elif operation == \"*\":\n",
    "        return num1 * num2\n",
    "    elif operation == \"/\":\n",
    "        return num1 / num2\n",
    "    else:\n",
    "        return \"错误：不支持的操作。\""
   ]
  },
  {
   "cell_type": "markdown",
   "metadata": {},
   "source": [
    "然后，我们将从 Claude 的函数调用响应中提取参数。如果所有参数都存在，我们就运行计算器工具。"
   ]
  },
  {
   "cell_type": "code",
   "execution_count": null,
   "metadata": {},
   "outputs": [],
   "source": [
    "def find_parameter(message, parameter_name):\n",
    "    parameter_start_string = f\"name=\\\"{parameter_name}\\\">\"\n",
    "    start = message.index(parameter_start_string)\n",
    "    if start == -1:\n",
    "        return None\n",
    "    if start > 0:\n",
    "        start = start + len(parameter_start_string)\n",
    "        end = start\n",
    "        while message[end] != \"<\":\n",
    "            end += 1\n",
    "    return message[start:end]\n",
    "\n",
    "first_operand = find_parameter(function_calling_response, \"first_operand\")\n",
    "second_operand = find_parameter(function_calling_response, \"second_operand\")\n",
    "operator = find_parameter(function_calling_response, \"operator\")\n",
    "\n",
    "if first_operand and second_operand and operator:\n",
    "    result = do_pairwise_arithmetic(int(first_operand), int(second_operand), operator)\n",
    "    print(\"---------------- 结果 ----------------\")\n",
    "    print(f\"{result:,}\")"
   ]
  },
  {
   "cell_type": "markdown",
   "metadata": {},
   "source": [
    "现在我们有了一个结果，我们必须正确地格式化这个结果，以便当我们将其传回给Claude时，Claude能够理解该结果与哪个工具相关。Claude被训练识别一种固定的格式：\n",
    "```\n",
    "<function_results>\n",
    "<result>\n",
    "<tool_name>{工具名称}</tool_name>\n",
    "<stdout>\n",
    "{工具结果}\n",
    "</stdout>\n",
    "</result>\n",
    "</function_results>\n",
    "```\n",
    "\n",
    "运行下面的单元格，将上述工具结果格式化为这种结构。"
   ]
  },
  {
   "cell_type": "code",
   "execution_count": null,
   "metadata": {},
   "outputs": [],
   "source": [
    "def construct_successful_function_run_injection_prompt(invoke_results):\n",
    "    constructed_prompt = (\n",
    "        \"<function_results>\\n\"\n",
    "        + '\\n'.join(\n",
    "            f\"<result>\\n<tool_name>{res['tool_name']}</tool_name>\\n<stdout>\\n{res['tool_result']}\\n</stdout>\\n</result>\"\n",
    "            for res in invoke_results\n",
    "        ) + \"\\n</function_results>\"\n",
    "    )\n",
    "\n",
    "    return constructed_prompt\n",
    "\n",
    "formatted_results = [{\n",
    "    'tool_name': 'do_pairwise_arithmetic',\n",
    "    'tool_result': result\n",
    "}]\n",
    "function_results = construct_successful_function_run_injection_prompt(formatted_results)\n",
    "print(function_results)"
   ]
  },
  {
   "cell_type": "markdown",
   "metadata": {},
   "source": [
    "现在我们只需将这个结果附加到与之前相同的消息链中，然后将其发回给Claude，这样就大功告成了！"
   ]
  },
  {
   "cell_type": "code",
   "execution_count": null,
   "metadata": {},
   "outputs": [],
   "source": [
    "full_first_response = function_calling_response + \"</function_calls>\"\n",
    "\n",
    "# 构建完整的对话\n",
    "messages = [multiplication_message,\n",
    "{\n",
    "    \"role\": \"assistant\",\n",
    "    \"content\": full_first_response\n",
    "},\n",
    "{\n",
    "    \"role\": \"user\",\n",
    "    \"content\": function_results\n",
    "}]\n",
    "\n",
    "# 打印Claude的响应\n",
    "final_response = get_completion(messages, system_prompt=system_prompt, stop_sequences=stop_sequences)\n",
    "print(\"------------- 最终结果 -------------\")\n",
    "print(final_response)"
   ]
  },
  {
   "cell_type": "markdown",
   "metadata": {},
   "source": [
    "恭喜你，成功地运行了一个完整的工具使用链端到端！\n",
    "\n",
    "现在，如果我们给Claude一个完全不需要使用给定工具的问题，会怎么样呢？"
   ]
  },
  {
   "cell_type": "code",
   "execution_count": null,
   "metadata": {},
   "outputs": [],
   "source": [
    "non_multiplication_message = {\n",
    "    \"role\": \"user\",\n",
    "    \"content\": \"告诉我法国的首都是哪里。\"\n",
    "}\n",
    "\n",
    "stop_sequences = [\"</function_calls>\"]\n",
    "\n",
    "# 获取Claude的响应\n",
    "function_calling_response = get_completion([non_multiplication_message], system_prompt=system_prompt, stop_sequences=stop_sequences)\n",
    "print(function_calling_response)"
   ]
  },
  {
   "cell_type": "markdown",
   "metadata": {},
   "source": [
    "成功了！正如你所看到的，当不需要调用函数时，Claude知道不进行调用。\n",
    "\n",
    "如果你想在不更改上方任何内容的情况下，尝试本课程的提示，请一直滚动到课程笔记本的底部，访问[**示例演练场**](#example-playground)。"
   ]
  },
  {
   "cell_type": "markdown",
   "metadata": {},
   "source": [
    "---\n",
    "\n",
    "## 练习\n",
    "- [练习 10.2.1 - SQL](#exercise-1021---SQL)"
   ]
  },
  {
   "cell_type": "markdown",
   "metadata": {},
   "source": [
    "### 练习 10.2.1 - SQL\n",
    "在这个练习中，你将编写一个用于查询和写入世界上最小“数据库”的工具使用提示。以下是已初始化的数据库，它实际上只是一个字典。"
   ]
  },
  {
   "cell_type": "code",
   "execution_count": null,
   "metadata": {},
   "outputs": [],
   "source": [
    "db = {\n",
    "    \"users\": [\n",
    "        {\"id\": 1, \"name\": \"Alice\", \"email\": \"alice@example.com\"},\n",
    "        {\"id\": 2, \"name\": \"Bob\", \"email\": \"bob@example.com\"},\n",
    "        {\"id\": 3, \"name\": \"Charlie\", \"email\": \"charlie@example.com\"}\n",
    "    ],\n",
    "    \"products\": [\n",
    "        {\"id\": 1, \"name\": \"Widget\", \"price\": 9.99},\n",
    "        {\"id\": 2, \"name\": \"Gadget\", \"price\": 14.99},\n",
    "        {\"id\": 3, \"name\": \"Doohickey\", \"price\": 19.99}\n",
    "    ]\n",
    "}"
   ]
  },
  {
   "cell_type": "markdown",
   "metadata": {},
   "source": [
    "这是用于向数据库写入数据和从数据库读取数据的函数代码。"
   ]
  },
  {
   "cell_type": "code",
   "execution_count": null,
   "metadata": {},
   "outputs": [],
   "source": [
    "def get_user(user_id):\n",
    "    for user in db[\"users\"]:\n",
    "        if user[\"id\"] == user_id:\n",
    "            return user\n",
    "    return None\n",
    "\n",
    "def get_product(product_id):\n",
    "    for product in db[\"products\"]:\n",
    "        if product[\"id\"] == product_id:\n",
    "            return product\n",
    "    return None\n",
    "\n",
    "def add_user(name, email):\n",
    "    user_id = len(db[\"users\"]) + 1\n",
    "    user = {\"id\": user_id, \"name\": name, \"email\": email}\n",
    "    db[\"users\"].append(user)\n",
    "    return user\n",
    "\n",
    "def add_product(name, price):\n",
    "    product_id = len(db[\"products\"]) + 1\n",
    "    product = {\"id\": product_id, \"name\": name, \"price\": price}\n",
    "    db[\"products\"].append(product)\n",
    "    return product"
   ]
  },
  {
   "cell_type": "markdown",
   "metadata": {},
   "source": [
    "要解决这个练习，首先定义一个系统提示，就像上面提到的 `system_prompt_tools_specific_tools` 那样。请务必包含每个工具的名称和描述，以及每个函数的每个参数的名称、类型和描述。我们已经在下面为你提供了一些起始的脚手架代码。"
   ]
  },
  {
   "cell_type": "code",
   "execution_count": null,
   "metadata": {},
   "outputs": [],
   "source": [
    "system_prompt_tools_specific_tools_sql = \"\"\"\n",
    "\"\"\"\n",
    "\n",
    "system_prompt = system_prompt_tools_general_explanation + system_prompt_tools_specific_tools_sql"
   ]
  },
  {
   "cell_type": "markdown",
   "metadata": {},
   "source": [
    "准备好后，你可以在下面的示例中尝试你的工具定义系统提示。只需运行下面的单元格即可！"
   ]
  },
  {
   "cell_type": "code",
   "execution_count": null,
   "metadata": {},
   "outputs": [],
   "source": [
    "examples = [\n",
    "    \"向数据库添加一个名为Deborah的用户。\",\n",
    "    \"向数据库添加一个名为Thingo的产品。\",\n",
    "    \"告诉我用户2的名称。\",\n",
    "    \"告诉我产品3的名称。\"\n",
    "]\n",
    "\n",
    "for example in examples:\n",
    "    message = {\n",
    "        \"role\": \"user\",\n",
    "        \"content\": example\n",
    "    }\n",
    "\n",
    "    # 获取并打印Claude的响应\n",
    "    function_calling_response = get_completion([message], system_prompt=system_prompt, stop_sequences=stop_sequences)\n",
    "    print(example, \"\\n----------\\n\\n\", function_calling_response, \"\\n*********\\n*********\\n*********\\n\\n\")"
   ]
  },
  {
   "cell_type": "markdown",
   "metadata": {},
   "source": [
    "如果操作正确，函数调用消息应该能正确调用 `add_user`、`add_product`、`get_user` 和 `get_product` 函数。\n",
    "\n",
    "作为额外加分项，请添加一些代码单元格并编写参数解析代码。然后使用Claude给出的参数调用这些函数，以查看调用后“数据库”的状态。"
   ]
  },
  {
   "cell_type": "markdown",
   "metadata": {},
   "source": [
    "❓ 如果你想查看一个可能的解决方案，请运行下面的单元格！"
   ]
  },
  {
   "cell_type": "code",
   "execution_count": null,
   "metadata": {},
   "outputs": [],
   "source": [
    "from hints import exercise_10_2_1_solution; print(exercise_10_2_1_solution)"
   ]
  },
  {
   "cell_type": "markdown",
   "metadata": {},
   "source": [
    "### 恭喜！\n",
    "\n",
    "恭喜你学会了工具使用和函数调用！如果你想了解更多关于搜索和RAG的知识，请前往最后一个附录部分。\n",
    "\n",
    "---"
   ]
  },
  {
   "cell_type": "markdown",
   "metadata": {},
   "source": [
    "# Appendix 10.2: Tool Use\n",
    "\n",
    "- [Lesson](#lesson)\n",
    "- [Exercises](#exercises)\n",
    "- [Example Playground](#example-playground)\n",
    "\n",
    "## Setup\n",
    "\n",
    "Run the following setup cell to load your API key and establish the `get_completion` helper function."
   ]
  },
  {
   "cell_type": "code",
   "execution_count": null,
   "metadata": {},
   "outputs": [],
   "source": [
    "%pip install anthropic\n",
    "\n",
    "# Import python's built-in regular expression library\n",
    "import re\n",
    "import anthropic\n",
    "\n",
    "# Retrieve the API_KEY variable from the IPython store\n",
    "%store -r API_KEY\n",
    "\n",
    "client = anthropic.Anthropic(api_key=API_KEY)\n",
    "\n",
    "# Rewrittten to call Claude 3 Sonnet, which is generally better at tool use, and include stop_sequences\n",
    "def get_completion(messages, system_prompt=\"\", prefill=\"\",stop_sequences=None):\n",
    "    message = client.messages.create(\n",
    "        model=\"claude-3-sonnet-20240229\",\n",
    "        max_tokens=2000,\n",
    "        temperature=0.0,\n",
    "        system=system_prompt,\n",
    "        messages=messages,\n",
    "        stop_sequences=stop_sequences\n",
    "    )\n",
    "    return message.content[0].text"
   ]
  },
  {
   "cell_type": "markdown",
   "metadata": {},
   "source": [
    "---\n",
    "\n",
    "## Lesson\n",
    "\n",
    "While it might seem conceptually complex at first, tool use, a.k.a. function calling, is actually quite simple! You already know all the skills necessary to implement tool use, which is really just a combination of substitution and prompt chaining.\n",
    "\n",
    "In previous substitution exercises, we substituted text into prompts. With tool use, we substitute tool or function results into prompts. Claude can't literally call or access tools and functions. Instead, we have Claude:\n",
    "1. Output the tool name and arguments it wants to call\n",
    "2. Halt any further response generation while the tool is called\n",
    "3. Then we reprompt with the appended tool results"
   ]
  },
  {
   "cell_type": "markdown",
   "metadata": {},
   "source": [
    "Function calling is useful because it expands Claude's capabilities and enables Claude to handle much more complex, multi-step tasks.\n",
    "Some examples of functions you can give Claude:\n",
    "- Calculator\n",
    "- Word counter\n",
    "- SQL database querying and data retrieval\n",
    "- Weather API"
   ]
  },
  {
   "cell_type": "markdown",
   "metadata": {},
   "source": [
    "You can get Claude to do tool use by combining these two elements:\n",
    "\n",
    "1. A system prompt, in which we give Claude an explanation of the concept of tool use as well as a detailed descriptive list of the tools it has access to\n",
    "2. The control logic with which to orchestrate and execute Claude's tool use requests"
   ]
  },
  {
   "cell_type": "markdown",
   "metadata": {},
   "source": [
    "### Tool use roadmap\n",
    "\n",
    "*This lesson teaches our current tool use format. However, we will be updating and improving tool use functionality in the near future, including:*\n",
    "* *A more streamlined format for function definitions and calls*\n",
    "* *More robust error handling and edge case coverage*\n",
    "* *Tighter integration with the rest of our API*\n",
    "* *Better reliability and performance, especially for more complex tool use tasks*"
   ]
  },
  {
   "cell_type": "markdown",
   "metadata": {},
   "source": [
    "### Examples\n",
    "\n",
    "To enable tool use in Claude, we start with the system prompt. In this special tool use system prompt, wet tell Claude:\n",
    "* The basic premise of tool use and what it entails\n",
    "* How Claude can call and use the tools it's been given\n",
    "* A detailed list of tools it has access to in this specific scenario \n",
    "\n",
    "Here's the first part of the system prompt, explaining tool use to Claude. This part of the system prompt is generalizable across all instances of prompting Claude for tool use. The tool calling structure we're giving Claude (`<function_calls> [...] </function_calls>`) is a structure Claude has been specifically trained to use, so we recommend that you stick with this."
   ]
  },
  {
   "cell_type": "code",
   "execution_count": null,
   "metadata": {},
   "outputs": [],
   "source": [
    "system_prompt_tools_general_explanation = \"\"\"You have access to a set of functions you can use to answer the user's question. This includes access to a\n",
    "sandboxed computing environment. You do NOT currently have the ability to inspect files or interact with external\n",
    "resources, except by invoking the below functions.\n",
    "\n",
    "You can invoke one or more functions by writing a \"<function_calls>\" block like the following as part of your\n",
    "reply to the user:\n",
    "<function_calls>\n",
    "<invoke name=\"$FUNCTION_NAME\">\n",
    "<antml:parameter name=\"$PARAMETER_NAME\">$PARAMETER_VALUE</parameter>\n",
    "...\n",
    "</invoke>\n",
    "<invoke name=\"$FUNCTION_NAME2\">\n",
    "...\n",
    "</invoke>\n",
    "</function_calls>\n",
    "\n",
    "String and scalar parameters should be specified as is, while lists and objects should use JSON format. Note that\n",
    "spaces for string values are not stripped. The output is not expected to be valid XML and is parsed with regular\n",
    "expressions.\n",
    "\n",
    "The output and/or any errors will appear in a subsequent \"<function_results>\" block, and remain there as part of\n",
    "your reply to the user.\n",
    "You may then continue composing the rest of your reply to the user, respond to any errors, or make further function\n",
    "calls as appropriate.\n",
    "If a \"<function_results>\" does NOT appear after your function calls, then they are likely malformatted and not\n",
    "recognized as a call.\"\"\""
   ]
  },
  {
   "cell_type": "markdown",
   "metadata": {},
   "source": [
    "Here's the second part of the system prompt, which defines the exact tools Claude has access to in this specific situation. In this example, we will be giving Claude a calculator tool, which takes three parameters: two operands and an operator. \n",
    "\n",
    "Then we combine the two parts of the system prompt."
   ]
  },
  {
   "cell_type": "code",
   "execution_count": null,
   "metadata": {},
   "outputs": [],
   "source": [
    "system_prompt_tools_specific_tools = \"\"\"Here are the functions available in JSONSchema format:\n",
    "<tools>\n",
    "<tool_description>\n",
    "<tool_name>calculator</tool_name>\n",
    "<description>\n",
    "Calculator function for doing basic arithmetic.\n",
    "Supports addition, subtraction, multiplication\n",
    "</description>\n",
    "<parameters>\n",
    "<parameter>\n",
    "<name>first_operand</name>\n",
    "<type>int</type>\n",
    "<description>First operand (before the operator)</description>\n",
    "</parameter>\n",
    "<parameter>\n",
    "<name>second_operand</name>\n",
    "<type>int</type>\n",
    "<description>Second operand (after the operator)</description>\n",
    "</parameter>\n",
    "<parameter>\n",
    "<name>operator</name>\n",
    "<type>str</type>\n",
    "<description>The operation to perform. Must be either +, -, *, or /</description>\n",
    "</parameter>\n",
    "</parameters>\n",
    "</tool_description>\n",
    "</tools>\n",
    "\"\"\"\n",
    "\n",
    "system_prompt = system_prompt_tools_general_explanation + system_prompt_tools_specific_tools"
   ]
  },
  {
   "cell_type": "markdown",
   "metadata": {},
   "source": [
    "Now we can give Claude a question that requires use of the `calculator` tool. We will use `<function_calls\\>` in `stop_sequences` to detect if and when Claude calls the function."
   ]
  },
  {
   "cell_type": "code",
   "execution_count": null,
   "metadata": {},
   "outputs": [],
   "source": [
    "multiplication_message = {\n",
    "    \"role\": \"user\",\n",
    "    \"content\": \"Multiply 1,984,135 by 9,343,116\"\n",
    "}\n",
    "\n",
    "stop_sequences = [\"</function_calls>\"]\n",
    "\n",
    "# Get Claude's response\n",
    "function_calling_response = get_completion([multiplication_message], system_prompt=system_prompt, stop_sequences=stop_sequences)\n",
    "print(function_calling_response)"
   ]
  },
  {
   "cell_type": "markdown",
   "metadata": {},
   "source": [
    "Now, we can extract out the parameters from Claude's function call and actually run the function on Claude's behalf.\n",
    "\n",
    "First we'll define the function's code."
   ]
  },
  {
   "cell_type": "code",
   "execution_count": null,
   "metadata": {},
   "outputs": [],
   "source": [
    "def do_pairwise_arithmetic(num1, num2, operation):\n",
    "    if operation == '+':\n",
    "        return num1 + num2\n",
    "    elif operation == \"-\":\n",
    "        return num1 - num2\n",
    "    elif operation == \"*\":\n",
    "        return num1 * num2\n",
    "    elif operation == \"/\":\n",
    "        return num1 / num2\n",
    "    else:\n",
    "        return \"Error: Operation not supported.\""
   ]
  },
  {
   "cell_type": "markdown",
   "metadata": {},
   "source": [
    "Then we'll extract the parameters from Claude's function call response. If all the parameters exist, we run the calculator tool."
   ]
  },
  {
   "cell_type": "code",
   "execution_count": null,
   "metadata": {},
   "outputs": [],
   "source": [
    "def find_parameter(message, parameter_name):\n",
    "    parameter_start_string = f\"name=\\\"{parameter_name}\\\">\"\n",
    "    start = message.index(parameter_start_string)\n",
    "    if start == -1:\n",
    "        return None\n",
    "    if start > 0:\n",
    "        start = start + len(parameter_start_string)\n",
    "        end = start\n",
    "        while message[end] != \"<\":\n",
    "            end += 1\n",
    "    return message[start:end]\n",
    "\n",
    "first_operand = find_parameter(function_calling_response, \"first_operand\")\n",
    "second_operand = find_parameter(function_calling_response, \"second_operand\")\n",
    "operator = find_parameter(function_calling_response, \"operator\")\n",
    "\n",
    "if first_operand and second_operand and operator:\n",
    "    result = do_pairwise_arithmetic(int(first_operand), int(second_operand), operator)\n",
    "    print(\"---------------- RESULT ----------------\")\n",
    "    print(f\"{result:,}\")"
   ]
  },
  {
   "cell_type": "markdown",
   "metadata": {},
   "source": [
    "Now that we have a result, we have to properly format that result so that when we pass it back to Claude, Claude understands what tool that result is in relation to. There is a set format for this that Claude has been trained to recognize:\n",
    "```\n",
    "<function_results>\n",
    "<result>\n",
    "<tool_name>{TOOL_NAME}</tool_name>\n",
    "<stdout>\n",
    "{TOOL_RESULT}\n",
    "</stdout>\n",
    "</result>\n",
    "</function_results>\n",
    "```\n",
    "\n",
    "Run the cell below to format the above tool result into this structure."
   ]
  },
  {
   "cell_type": "code",
   "execution_count": null,
   "metadata": {},
   "outputs": [],
   "source": [
    "def construct_successful_function_run_injection_prompt(invoke_results):\n",
    "    constructed_prompt = (\n",
    "        \"<function_results>\\n\"\n",
    "        + '\\n'.join(\n",
    "            f\"<result>\\n<tool_name>{res['tool_name']}</tool_name>\\n<stdout>\\n{res['tool_result']}\\n</stdout>\\n</result>\"\n",
    "            for res in invoke_results\n",
    "        ) + \"\\n</function_results>\"\n",
    "    )\n",
    "\n",
    "    return constructed_prompt\n",
    "\n",
    "formatted_results = [{\n",
    "    'tool_name': 'do_pairwise_arithmetic',\n",
    "    'tool_result': result\n",
    "}]\n",
    "function_results = construct_successful_function_run_injection_prompt(formatted_results)\n",
    "print(function_results)"
   ]
  },
  {
   "cell_type": "markdown",
   "metadata": {},
   "source": [
    "Now all we have to do is send this result back to Claude by appending the result to the same message chain as before, and we're good!"
   ]
  },
  {
   "cell_type": "code",
   "execution_count": null,
   "metadata": {},
   "outputs": [],
   "source": [
    "full_first_response = function_calling_response + \"</function_calls>\"\n",
    "\n",
    "# Construct the full conversation\n",
    "messages = [multiplication_message,\n",
    "{\n",
    "    \"role\": \"assistant\",\n",
    "    \"content\": full_first_response\n",
    "},\n",
    "{\n",
    "    \"role\": \"user\",\n",
    "    \"content\": function_results\n",
    "}]\n",
    "   \n",
    "# Print Claude's response\n",
    "final_response = get_completion(messages, system_prompt=system_prompt, stop_sequences=stop_sequences)\n",
    "print(\"------------- FINAL RESULT -------------\")\n",
    "print(final_response)"
   ]
  },
  {
   "cell_type": "markdown",
   "metadata": {},
   "source": [
    "Congratulations on running an entire tool use chain end to end!\n",
    "\n",
    "Now what if we give Claude a question that doesn't that doesn't require using the given tool at all?"
   ]
  },
  {
   "cell_type": "code",
   "execution_count": null,
   "metadata": {},
   "outputs": [],
   "source": [
    "non_multiplication_message = {\n",
    "    \"role\": \"user\",\n",
    "    \"content\": \"Tell me the capital of France.\"\n",
    "}\n",
    "\n",
    "stop_sequences = [\"</function_calls>\"]\n",
    "\n",
    "# Get Claude's response\n",
    "function_calling_response = get_completion([non_multiplication_message], system_prompt=system_prompt, stop_sequences=stop_sequences)\n",
    "print(function_calling_response)"
   ]
  },
  {
   "cell_type": "markdown",
   "metadata": {},
   "source": [
    "Success! As you can see, Claude knew not to call the function when it wasn't needed.\n",
    "\n",
    "If you would like to experiment with the lesson prompts without changing any content above, scroll all the way to the bottom of the lesson notebook to visit the [**Example Playground**](#example-playground)."
   ]
  },
  {
   "cell_type": "markdown",
   "metadata": {},
   "source": [
    "---\n",
    "\n",
    "## Exercises\n",
    "- [Exercise 10.2.1 - SQL](#exercise-1021---SQL)"
   ]
  },
  {
   "cell_type": "markdown",
   "metadata": {},
   "source": [
    "### Exercise 10.2.1 - SQL\n",
    "In this exercise, you'll be writing a tool use prompt for querying and writing to the world's smallest \"database\". Here's the initialized database, which is really just a dictionary."
   ]
  },
  {
   "cell_type": "code",
   "execution_count": null,
   "metadata": {},
   "outputs": [],
   "source": [
    "db = {\n",
    "    \"users\": [\n",
    "        {\"id\": 1, \"name\": \"Alice\", \"email\": \"alice@example.com\"},\n",
    "        {\"id\": 2, \"name\": \"Bob\", \"email\": \"bob@example.com\"},\n",
    "        {\"id\": 3, \"name\": \"Charlie\", \"email\": \"charlie@example.com\"}\n",
    "    ],\n",
    "    \"products\": [\n",
    "        {\"id\": 1, \"name\": \"Widget\", \"price\": 9.99},\n",
    "        {\"id\": 2, \"name\": \"Gadget\", \"price\": 14.99},\n",
    "        {\"id\": 3, \"name\": \"Doohickey\", \"price\": 19.99}\n",
    "    ]\n",
    "}"
   ]
  },
  {
   "cell_type": "markdown",
   "metadata": {},
   "source": [
    "And here is the code for the functions that write to and from the database."
   ]
  },
  {
   "cell_type": "code",
   "execution_count": null,
   "metadata": {},
   "outputs": [],
   "source": [
    "def get_user(user_id):\n",
    "    for user in db[\"users\"]:\n",
    "        if user[\"id\"] == user_id:\n",
    "            return user\n",
    "    return None\n",
    "\n",
    "def get_product(product_id):\n",
    "    for product in db[\"products\"]:\n",
    "        if product[\"id\"] == product_id:\n",
    "            return product\n",
    "    return None\n",
    "\n",
    "def add_user(name, email):\n",
    "    user_id = len(db[\"users\"]) + 1\n",
    "    user = {\"id\": user_id, \"name\": name, \"email\": email}\n",
    "    db[\"users\"].append(user)\n",
    "    return user\n",
    "\n",
    "def add_product(name, price):\n",
    "    product_id = len(db[\"products\"]) + 1\n",
    "    product = {\"id\": product_id, \"name\": name, \"price\": price}\n",
    "    db[\"products\"].append(product)\n",
    "    return product"
   ]
  },
  {
   "cell_type": "markdown",
   "metadata": {},
   "source": [
    "To solve the exercise, start by defining a system prompt like `system_prompt_tools_specific_tools` above. Make sure to include the name and description of each tool, along with the name and type and description of each parameter for each function. We've given you some starting scaffolding below."
   ]
  },
  {
   "cell_type": "code",
   "execution_count": null,
   "metadata": {},
   "outputs": [],
   "source": [
    "system_prompt_tools_specific_tools_sql = \"\"\"\n",
    "\"\"\"\n",
    "\n",
    "system_prompt = system_prompt_tools_general_explanation + system_prompt_tools_specific_tools_sql"
   ]
  },
  {
   "cell_type": "markdown",
   "metadata": {},
   "source": [
    "When you're ready, you can try out your tool definition system prompt on the examples below. Just run the below cell!"
   ]
  },
  {
   "cell_type": "code",
   "execution_count": null,
   "metadata": {},
   "outputs": [],
   "source": [
    "examples = [\n",
    "    \"Add a user to the database named Deborah.\",\n",
    "    \"Add a product to the database named Thingo\",\n",
    "    \"Tell me the name of User 2\",\n",
    "    \"Tell me the name of Product 3\"\n",
    "]\n",
    "\n",
    "for example in examples:\n",
    "    message = {\n",
    "        \"role\": \"user\",\n",
    "        \"content\": example\n",
    "    }\n",
    "\n",
    "    # Get & print Claude's response\n",
    "    function_calling_response = get_completion([message], system_prompt=system_prompt, stop_sequences=stop_sequences)\n",
    "    print(example, \"\\n----------\\n\\n\", function_calling_response, \"\\n*********\\n*********\\n*********\\n\\n\")"
   ]
  },
  {
   "cell_type": "markdown",
   "metadata": {},
   "source": [
    "If you did it right, the function calling messages should call the `add_user`, `add_product`, `get_user`, and `get_product` functions correctly.\n",
    "\n",
    "For extra credit, add some code cells and write parameter-parsing code. Then call the functions with the parameters Claude gives you to see the state of the \"database\" after the call."
   ]
  },
  {
   "cell_type": "markdown",
   "metadata": {},
   "source": [
    "❓ If you want to see a possible solution, run the cell below!"
   ]
  },
  {
   "cell_type": "code",
   "execution_count": null,
   "metadata": {},
   "outputs": [],
   "source": [
    "from hints import exercise_10_2_1_solution; print(exercise_10_2_1_solution)"
   ]
  },
  {
   "cell_type": "markdown",
   "metadata": {},
   "source": [
    "### Congrats!\n",
    "\n",
    "Congratulations on learning tool use and function calling! Head over to the last appendix section if you would like to learn more about search & RAG."
   ]
  },
  {
   "cell_type": "markdown",
   "metadata": {},
   "source": [
    "---\n",
    "\n",
    "## Example Playground\n",
    "\n",
    "This is an area for you to experiment freely with the prompt examples shown in this lesson and tweak prompts to see how it may affect Claude's responses."
   ]
  },
  {
   "cell_type": "code",
   "execution_count": null,
   "metadata": {},
   "outputs": [],
   "source": [
    "system_prompt_tools_general_explanation = \"\"\"You have access to a set of functions you can use to answer the user's question. This includes access to a\n",
    "sandboxed computing environment. You do NOT currently have the ability to inspect files or interact with external\n",
    "resources, except by invoking the below functions.\n",
    "\n",
    "You can invoke one or more functions by writing a \"<function_calls>\" block like the following as part of your\n",
    "reply to the user:\n",
    "<function_calls>\n",
    "<invoke name=\"$FUNCTION_NAME\">\n",
    "<antml:parameter name=\"$PARAMETER_NAME\">$PARAMETER_VALUE</parameter>\n",
    "...\n",
    "</invoke>\n",
    "<nvoke name=\"$FUNCTION_NAME2\">\n",
    "...\n",
    "</invoke>\n",
    "</function_calls>\n",
    "\n",
    "String and scalar parameters should be specified as is, while lists and objects should use JSON format. Note that\n",
    "spaces for string values are not stripped. The output is not expected to be valid XML and is parsed with regular\n",
    "expressions.\n",
    "\n",
    "The output and/or any errors will appear in a subsequent \"<function_results>\" block, and remain there as part of\n",
    "your reply to the user.\n",
    "You may then continue composing the rest of your reply to the user, respond to any errors, or make further function\n",
    "calls as appropriate.\n",
    "If a \"<function_results>\" does NOT appear after your function calls, then they are likely malformatted and not\n",
    "recognized as a call.\"\"\""
   ]
  },
  {
   "cell_type": "code",
   "execution_count": null,
   "metadata": {},
   "outputs": [],
   "source": [
    "system_prompt_tools_specific_tools = \"\"\"Here are the functions available in JSONSchema format:\n",
    "<tools>\n",
    "<tool_description>\n",
    "<tool_name>calculator</tool_name>\n",
    "<description>\n",
    "Calculator function for doing basic arithmetic.\n",
    "Supports addition, subtraction, multiplication\n",
    "</description>\n",
    "<parameters>\n",
    "<parameter>\n",
    "<name>first_operand</name>\n",
    "<type>int</type>\n",
    "<description>First operand (before the operator)</description>\n",
    "</parameter>\n",
    "<parameter>\n",
    "<name>second_operand</name>\n",
    "<type>int</type>\n",
    "<description>Second operand (after the operator)</description>\n",
    "</parameter>\n",
    "<parameter>\n",
    "<name>operator</name>\n",
    "<type>str</type>\n",
    "<description>The operation to perform. Must be either +, -, *, or /</description>\n",
    "</parameter>\n",
    "</parameters>\n",
    "</tool_description>\n",
    "</tools>\n",
    "\"\"\"\n",
    "\n",
    "system_prompt = system_prompt_tools_general_explanation + system_prompt_tools_specific_tools"
   ]
  },
  {
   "cell_type": "code",
   "execution_count": null,
   "metadata": {},
   "outputs": [],
   "source": [
    "multiplication_message = {\n",
    "    \"role\": \"user\",\n",
    "    \"content\": \"Multiply 1,984,135 by 9,343,116\"\n",
    "}\n",
    "\n",
    "stop_sequences = [\"</function_calls>\"]\n",
    "\n",
    "# Get Claude's response\n",
    "function_calling_response = get_completion([multiplication_message], system_prompt=system_prompt, stop_sequences=stop_sequences)\n",
    "print(function_calling_response)"
   ]
  },
  {
   "cell_type": "code",
   "execution_count": null,
   "metadata": {},
   "outputs": [],
   "source": [
    "def do_pairwise_arithmetic(num1, num2, operation):\n",
    "    if operation == '+':\n",
    "        return num1 + num2\n",
    "    elif operation == \"-\":\n",
    "        return num1 - num2\n",
    "    elif operation == \"*\":\n",
    "        return num1 * num2\n",
    "    elif operation == \"/\":\n",
    "        return num1 / num2\n",
    "    else:\n",
    "        return \"Error: Operation not supported.\""
   ]
  },
  {
   "cell_type": "code",
   "execution_count": null,
   "metadata": {},
   "outputs": [],
   "source": [
    "def find_parameter(message, parameter_name):\n",
    "    parameter_start_string = f\"name=\\\"{parameter_name}\\\">\"\n",
    "    start = message.index(parameter_start_string)\n",
    "    if start == -1:\n",
    "        return None\n",
    "    if start > 0:\n",
    "        start = start + len(parameter_start_string)\n",
    "        end = start\n",
    "        while message[end] != \"<\":\n",
    "            end += 1\n",
    "    return message[start:end]\n",
    "\n",
    "first_operand = find_parameter(function_calling_response, \"first_operand\")\n",
    "second_operand = find_parameter(function_calling_response, \"second_operand\")\n",
    "operator = find_parameter(function_calling_response, \"operator\")\n",
    "\n",
    "if first_operand and second_operand and operator:\n",
    "    result = do_pairwise_arithmetic(int(first_operand), int(second_operand), operator)\n",
    "    print(\"---------------- RESULT ----------------\")\n",
    "    print(f\"{result:,}\")"
   ]
  },
  {
   "cell_type": "code",
   "execution_count": null,
   "metadata": {},
   "outputs": [],
   "source": [
    "def construct_successful_function_run_injection_prompt(invoke_results):\n",
    "    constructed_prompt = (\n",
    "        \"<function_results>\\n\"\n",
    "        + '\\n'.join(\n",
    "            f\"<result>\\n<tool_name>{res['tool_name']}</tool_name>\\n<stdout>\\n{res['tool_result']}\\n</stdout>\\n</result>\"\n",
    "            for res in invoke_results\n",
    "        ) + \"\\n</function_results>\"\n",
    "    )\n",
    "\n",
    "    return constructed_prompt\n",
    "\n",
    "formatted_results = [{\n",
    "    'tool_name': 'do_pairwise_arithmetic',\n",
    "    'tool_result': result\n",
    "}]\n",
    "function_results = construct_successful_function_run_injection_prompt(formatted_results)\n",
    "print(function_results)"
   ]
  },
  {
   "cell_type": "code",
   "execution_count": null,
   "metadata": {},
   "outputs": [],
   "source": [
    "full_first_response = function_calling_response + \"</function_calls>\"\n",
    "\n",
    "# Construct the full conversation\n",
    "messages = [multiplication_message,\n",
    "{\n",
    "    \"role\": \"assistant\",\n",
    "    \"content\": full_first_response\n",
    "},\n",
    "{\n",
    "    \"role\": \"user\",\n",
    "    \"content\": function_results\n",
    "}]\n",
    "   \n",
    "# Print Claude's response\n",
    "final_response = get_completion(messages, system_prompt=system_prompt, stop_sequences=stop_sequences)\n",
    "print(\"------------- FINAL RESULT -------------\")\n",
    "print(final_response)"
   ]
  },
  {
   "cell_type": "code",
   "execution_count": null,
   "metadata": {},
   "outputs": [],
   "source": [
    "non_multiplication_message = {\n",
    "    \"role\": \"user\",\n",
    "    \"content\": \"Tell me the capital of France.\"\n",
    "}\n",
    "\n",
    "stop_sequences = [\"</function_calls>\"]\n",
    "\n",
    "# Get Claude's response\n",
    "function_calling_response = get_completion([non_multiplication_message], system_prompt=system_prompt, stop_sequences=stop_sequences)\n",
    "print(function_calling_response)"
   ]
  }
 ],
 "metadata": {
  "language_info": {
   "name": "python"
  }
 },
 "nbformat": 4,
 "nbformat_minor": 2
}
